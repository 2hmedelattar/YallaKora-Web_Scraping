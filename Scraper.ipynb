{
 "cells": [
  {
   "cell_type": "code",
   "execution_count": 1,
   "id": "7e4cc631",
   "metadata": {
    "scrolled": false
   },
   "outputs": [],
   "source": [
    "import requests\n",
    "from bs4 import BeautifulSoup\n",
    "import csv"
   ]
  },
  {
   "cell_type": "code",
   "execution_count": 2,
   "id": "92aff3b7",
   "metadata": {},
   "outputs": [
    {
     "name": "stdout",
     "output_type": "stream",
     "text": [
      "Welcome to Yalla Kora Match Center Scraper\n",
      "This program will scrape match details from Yalla Kora's Match Center.\n"
     ]
    }
   ],
   "source": [
    "print(\"Welcome to Yalla Kora Match Center Scraper\")\n",
    "print(\"This program will scrape match details from Yalla Kora's Match Center.\")"
   ]
  },
  {
   "cell_type": "code",
   "execution_count": 26,
   "id": "b0b5f0d7",
   "metadata": {},
   "outputs": [
    {
     "name": "stdout",
     "output_type": "stream",
     "text": [
      "Please Enter Your Date in format of MM/DD/YYYY: 3/26/2025\n"
     ]
    }
   ],
   "source": [
    "date = input(\"Please Enter Your Date in format of MM/DD/YYYY: \")\n",
    "page = requests.get(f\"https://www.yallakora.com/match-center?date={date}\")"
   ]
  },
  {
   "cell_type": "code",
   "execution_count": 31,
   "id": "cd0ab4cb",
   "metadata": {},
   "outputs": [],
   "source": [
    "def main(page):\n",
    "    src = page.content\n",
    "    soup = BeautifulSoup(src, \"lxml\")\n",
    "\n",
    "    matches_details = []\n",
    "    \n",
    "    champions = soup.find_all(\"div\", {'class' : 'matchCard'})\n",
    "    \n",
    "    def get_match_info(champions):\n",
    "        champion_title = champions.contents[1].find(\"h2\").text.strip()\n",
    "        \n",
    "        all_matches = champions.contents[3].find_all(\"div\", {'class' : 'teamsData'})\n",
    "        number_of_matches = len(all_matches)\n",
    "    \n",
    "        for i in range(number_of_matches):\n",
    "            # get teams names\n",
    "            team_A = all_matches[i].find(\"div\", {'class' : 'teamA'}).text.strip()\n",
    "            team_B = all_matches[i].find(\"div\", {'class' : 'teamB'}).text.strip()\n",
    "            \n",
    "            # get score\n",
    "            mResult = all_matches[i].find(\"div\", {'class' : 'MResult'}).find_all(\"span\", {'class' : 'score'})\n",
    "            score = f\"{mResult[0].text.strip()} - {mResult[1].text.strip()}\"\n",
    "            \n",
    "            # get time\n",
    "            match_time = all_matches[i].find(\"div\", {'class' : 'MResult'}).find(\"span\", {'class' : 'time'}).text.strip()\n",
    "            \n",
    "            # add info to macthes_details\n",
    "            matches_details.append({\"ChampionShip Name\" : champion_title,\n",
    "                                  \"Team A\" : team_A,\n",
    "                                  \"Team B\" : team_B,\n",
    "                                  \"Score\" : score,\n",
    "                                  \"Time\" : match_time})\n",
    "        \n",
    "    for i in range(len(champions)):\n",
    "        get_match_info(champions[i])\n",
    "    \n",
    "    if matches_details:\n",
    "        keys = matches_details[0].keys()\n",
    "        matches_details = sorted(matches_details, key=lambda x: (x[\"ChampionShip Name\"], x[\"Time\"]))\n",
    "        with open('Scraper.csv', 'w') as output_file:\n",
    "            dict_writer = csv.DictWriter(output_file, keys)\n",
    "            dict_writer.writeheader()\n",
    "            dict_writer.writerows(matches_details)\n",
    "            print(\"File Created Successfully\")\n",
    "    else:\n",
    "        print(\"No match details found. CSV file was not created.\")\n"
   ]
  },
  {
   "cell_type": "code",
   "execution_count": 32,
   "id": "ba4c25a3",
   "metadata": {
    "scrolled": false
   },
   "outputs": [
    {
     "name": "stdout",
     "output_type": "stream",
     "text": [
      "File Created Successfully\n"
     ]
    }
   ],
   "source": [
    "main(page)"
   ]
  }
 ],
 "metadata": {
  "kernelspec": {
   "display_name": "Python 3 (ipykernel)",
   "language": "python",
   "name": "python3"
  },
  "language_info": {
   "codemirror_mode": {
    "name": "ipython",
    "version": 3
   },
   "file_extension": ".py",
   "mimetype": "text/x-python",
   "name": "python",
   "nbconvert_exporter": "python",
   "pygments_lexer": "ipython3",
   "version": "3.11.5"
  }
 },
 "nbformat": 4,
 "nbformat_minor": 5
}
